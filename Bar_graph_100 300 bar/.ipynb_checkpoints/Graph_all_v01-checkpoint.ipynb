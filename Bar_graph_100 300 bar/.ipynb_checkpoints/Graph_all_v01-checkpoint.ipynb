{
 "cells": [
  {
   "cell_type": "code",
   "execution_count": 4,
   "metadata": {},
   "outputs": [],
   "source": [
    "import numpy as np\n",
    "import pandas as pd\n",
    "import matplotlib.pyplot as plt\n",
    "import os\n",
    "basepath = os.getcwd()"
   ]
  },
  {
   "cell_type": "code",
   "execution_count": 36,
   "metadata": {},
   "outputs": [
    {
     "name": "stdout",
     "output_type": "stream",
     "text": [
      "C:\\Users\\SebyG\\Documents\\GitHub\\BOG-ANG\\Bar_graph_100 300 bar\n",
      "['.ipynb_checkpoints', 'rho_s.xlsx', 'Table.xlsx', 'Table_w_graph.xlsx', 'Untitled.ipynb']\n"
     ]
    }
   ],
   "source": [
    "print(basepath)\n",
    "os.chdir(basepath)\n",
    "print(os.listdir())\n",
    "df_raw = pd.read_excel('Table.xlsx')\n",
    "df_rho = pd.read_excel('rho_s.xlsx')"
   ]
  },
  {
   "cell_type": "code",
   "execution_count": 37,
   "metadata": {},
   "outputs": [
    {
     "data": {
      "text/html": [
       "<div>\n",
       "<style scoped>\n",
       "    .dataframe tbody tr th:only-of-type {\n",
       "        vertical-align: middle;\n",
       "    }\n",
       "\n",
       "    .dataframe tbody tr th {\n",
       "        vertical-align: top;\n",
       "    }\n",
       "\n",
       "    .dataframe thead th {\n",
       "        text-align: right;\n",
       "    }\n",
       "</style>\n",
       "<table border=\"1\" class=\"dataframe\">\n",
       "  <thead>\n",
       "    <tr style=\"text-align: right;\">\n",
       "      <th></th>\n",
       "      <th>Name</th>\n",
       "      <th>D (g/cm3)</th>\n",
       "    </tr>\n",
       "  </thead>\n",
       "  <tbody>\n",
       "    <tr>\n",
       "      <th>0</th>\n",
       "      <td>BAZGAM</td>\n",
       "      <td>0.126526</td>\n",
       "    </tr>\n",
       "    <tr>\n",
       "      <th>1</th>\n",
       "      <td>AVAJUE</td>\n",
       "      <td>0.164116</td>\n",
       "    </tr>\n",
       "    <tr>\n",
       "      <th>2</th>\n",
       "      <td>AVAKAL</td>\n",
       "      <td>0.207415</td>\n",
       "    </tr>\n",
       "    <tr>\n",
       "      <th>3</th>\n",
       "      <td>QIYDIN</td>\n",
       "      <td>0.197643</td>\n",
       "    </tr>\n",
       "    <tr>\n",
       "      <th>4</th>\n",
       "      <td>QIYDOT</td>\n",
       "      <td>0.211978</td>\n",
       "    </tr>\n",
       "    <tr>\n",
       "      <th>5</th>\n",
       "      <td>Zeolite 13X</td>\n",
       "      <td>1.000000</td>\n",
       "    </tr>\n",
       "  </tbody>\n",
       "</table>\n",
       "</div>"
      ],
      "text/plain": [
       "          Name  D (g/cm3)\n",
       "0       BAZGAM   0.126526\n",
       "1       AVAJUE   0.164116\n",
       "2       AVAKAL   0.207415\n",
       "3       QIYDIN   0.197643\n",
       "4       QIYDOT   0.211978\n",
       "5  Zeolite 13X   1.000000"
      ]
     },
     "execution_count": 37,
     "metadata": {},
     "output_type": "execute_result"
    }
   ],
   "source": [
    "df_rho"
   ]
  },
  {
   "cell_type": "code",
   "execution_count": 38,
   "metadata": {},
   "outputs": [
    {
     "data": {
      "text/html": [
       "<div>\n",
       "<style scoped>\n",
       "    .dataframe tbody tr th:only-of-type {\n",
       "        vertical-align: middle;\n",
       "    }\n",
       "\n",
       "    .dataframe tbody tr th {\n",
       "        vertical-align: top;\n",
       "    }\n",
       "\n",
       "    .dataframe thead th {\n",
       "        text-align: right;\n",
       "    }\n",
       "</style>\n",
       "<table border=\"1\" class=\"dataframe\">\n",
       "  <thead>\n",
       "    <tr style=\"text-align: right;\">\n",
       "      <th></th>\n",
       "      <th>Names</th>\n",
       "      <th>100 bar const T</th>\n",
       "      <th>300 bar const T</th>\n",
       "      <th>100 bar recycle</th>\n",
       "      <th>300 bar recycle</th>\n",
       "    </tr>\n",
       "  </thead>\n",
       "  <tbody>\n",
       "    <tr>\n",
       "      <th>0</th>\n",
       "      <td>BAZGAM</td>\n",
       "      <td>0.426763</td>\n",
       "      <td>1.283025</td>\n",
       "      <td>0.477186</td>\n",
       "      <td>1.731218</td>\n",
       "    </tr>\n",
       "    <tr>\n",
       "      <th>1</th>\n",
       "      <td>AVAJUE</td>\n",
       "      <td>0.564783</td>\n",
       "      <td>1.257894</td>\n",
       "      <td>0.624680</td>\n",
       "      <td>1.564957</td>\n",
       "    </tr>\n",
       "    <tr>\n",
       "      <th>2</th>\n",
       "      <td>AVAKAL</td>\n",
       "      <td>0.308055</td>\n",
       "      <td>0.829168</td>\n",
       "      <td>0.343599</td>\n",
       "      <td>1.088047</td>\n",
       "    </tr>\n",
       "    <tr>\n",
       "      <th>3</th>\n",
       "      <td>QIYDIN</td>\n",
       "      <td>0.231265</td>\n",
       "      <td>0.662643</td>\n",
       "      <td>0.288773</td>\n",
       "      <td>0.853955</td>\n",
       "    </tr>\n",
       "    <tr>\n",
       "      <th>4</th>\n",
       "      <td>QIYDOT</td>\n",
       "      <td>0.352536</td>\n",
       "      <td>0.979072</td>\n",
       "      <td>0.399991</td>\n",
       "      <td>1.296022</td>\n",
       "    </tr>\n",
       "    <tr>\n",
       "      <th>5</th>\n",
       "      <td>Zeolite 13X</td>\n",
       "      <td>0.072264</td>\n",
       "      <td>0.092232</td>\n",
       "      <td>0.073538</td>\n",
       "      <td>0.095189</td>\n",
       "    </tr>\n",
       "  </tbody>\n",
       "</table>\n",
       "</div>"
      ],
      "text/plain": [
       "         Names  100 bar const T  300 bar const T  100 bar recycle  \\\n",
       "0       BAZGAM         0.426763         1.283025         0.477186   \n",
       "1       AVAJUE         0.564783         1.257894         0.624680   \n",
       "2       AVAKAL         0.308055         0.829168         0.343599   \n",
       "3       QIYDIN         0.231265         0.662643         0.288773   \n",
       "4       QIYDOT         0.352536         0.979072         0.399991   \n",
       "5  Zeolite 13X         0.072264         0.092232         0.073538   \n",
       "\n",
       "   300 bar recycle  \n",
       "0         1.731218  \n",
       "1         1.564957  \n",
       "2         1.088047  \n",
       "3         0.853955  \n",
       "4         1.296022  \n",
       "5         0.095189  "
      ]
     },
     "execution_count": 38,
     "metadata": {},
     "output_type": "execute_result"
    }
   ],
   "source": [
    "df_raw"
   ]
  },
  {
   "cell_type": "code",
   "execution_count": 39,
   "metadata": {},
   "outputs": [
    {
     "name": "stdout",
     "output_type": "stream",
     "text": [
      "Names\n",
      "['BAZGAM' 'AVAJUE' 'AVAKAL' 'QIYDIN' 'QIYDOT' 'Zeolite 13X']\n",
      "\n",
      "rho_s\n",
      "[0.126526 0.164116 0.207415 0.197643 0.211978 1.      ]\n",
      "\n",
      "dM_100\n",
      "[0.426763 0.564783 0.308055 0.231265 0.352536 0.072264]\n",
      "\n",
      "dM_300\n",
      "[1.283025 1.257894 0.829168 0.662643 0.979072 0.092232]\n",
      "\n",
      "dM_100_re\n",
      "[0.477186 0.62468  0.343599 0.288773 0.399991 0.073538]\n",
      "\n",
      "dM_300_re\n",
      "[1.731218 1.564957 1.088047 0.853955 1.296022 0.095189]\n"
     ]
    }
   ],
   "source": [
    "# Names\n",
    "Names = df_raw['Names'].to_numpy()\n",
    "print('Names')\n",
    "print(Names)\n",
    "print()\n",
    "\n",
    "# rho_s\n",
    "rho_s = df_rho['D (g/cm3)'].to_numpy()\n",
    "print('rho_s')\n",
    "print(rho_s)\n",
    "print()\n",
    "\n",
    "# dM_100\n",
    "dM_100 = df_raw['100 bar const T'].to_numpy()\n",
    "print('dM_100')\n",
    "print(dM_100)\n",
    "print()\n",
    "\n",
    "# dM_300\n",
    "dM_300 = df_raw['300 bar const T'].to_numpy()\n",
    "print('dM_300')\n",
    "print(dM_300)\n",
    "print()\n",
    "\n",
    "# dM_100\n",
    "dM_100_re = df_raw['100 bar recycle'].to_numpy()\n",
    "print('dM_100_re')\n",
    "print(dM_100_re)\n",
    "print()\n",
    "\n",
    "# dM_300\n",
    "dM_300_re = df_raw['300 bar recycle'].to_numpy()\n",
    "print('dM_300_re')\n",
    "print(dM_300_re)\n",
    "\n",
    "xax_num = np.arange(len(Names))"
   ]
  },
  {
   "cell_type": "code",
   "execution_count": 58,
   "metadata": {},
   "outputs": [
    {
     "data": {
      "text/plain": [
       "array(['BAZGAM', 'AVAJUE', 'AVAKAL', 'QIYDIN', 'QIYDOT', 'Zeolite 13X'],\n",
       "      dtype=object)"
      ]
     },
     "execution_count": 58,
     "metadata": {},
     "output_type": "execute_result"
    }
   ],
   "source": [
    "Names"
   ]
  },
  {
   "cell_type": "code",
   "execution_count": 136,
   "metadata": {},
   "outputs": [
    {
     "data": {
      "text/plain": [
       "<matplotlib.legend.Legend at 0x202534ba3d0>"
      ]
     },
     "execution_count": 136,
     "metadata": {},
     "output_type": "execute_result"
    },
    {
     "data": {
      "image/png": "[encoded data removed]",
      "text/plain": [
       "<Figure size 595x425 with 2 Axes>"
      ]
     },
     "metadata": {
      "needs_background": "light"
     },
     "output_type": "display_data"
    }
   ],
   "source": [
    "fig,ax1 = plt.subplots(dpi= 85, figsize = [7,5])\n",
    "ax2 = ax1.twinx()\n",
    "#ax1.grid(which='major',linestyle=':')\n",
    "ax1.bar(xax_num*3-1.2, dM_100,color = [0.3,0.3,1],\n",
    "        width = 0.6, label = '100 bar feed',\n",
    "       )\n",
    "\n",
    "ax1.bar(xax_num*3-0.6, dM_300,color = [0.3,0.7,0.3],\n",
    "        width = 0.6, label = '300 bar feed',\n",
    "       )\n",
    "\n",
    "ax1.bar(xax_num*3, rho_s,color = [0.4,0.4,0.4],\n",
    "        width = 0.6, label = 'Density',\n",
    "       )\n",
    "\n",
    "ax1.set_xticks(xax_num*3)\n",
    "ax1.set_xticklabels(Names,fontsize = 12)\n",
    "ax1.set_title('Constant Feed Temperature Cases (T= 314 K)',fontsize = 15)\n",
    "ax1.set_ylabel('Storage (kg/ MOF kg) \\n Density (g/cm$^3$)', fontsize = 13)\n",
    "#ax2.set_ylabel('', fontsize = 13)\n",
    "\n",
    "\n",
    "plt.yticks(fontsize = 12)\n",
    "ax1.legend(fontsize = 12.5,loc = [0.33,0.76])\n",
    "#ax2.legend(fontsize = 12.5, loc= [0.4,0.71])\n",
    "\n",
    "#ax2.bar(xax_num*2+0.5, rho_s,color = [0.1,0.2,0.2],width = 0.4)\n"
   ]
  },
  {
   "cell_type": "code",
   "execution_count": 135,
   "metadata": {},
   "outputs": [
    {
     "data": {
      "text/plain": [
       "<matplotlib.legend.Legend at 0x20253413e50>"
      ]
     },
     "execution_count": 135,
     "metadata": {},
     "output_type": "execute_result"
    },
    {
     "data": {
      "image/png": "[encoded data removed]",
      "text/plain": [
       "<Figure size 595x425 with 2 Axes>"
      ]
     },
     "metadata": {
      "needs_background": "light"
     },
     "output_type": "display_data"
    }
   ],
   "source": [
    "fig,ax1 = plt.subplots(dpi= 85, figsize = [7,5])\n",
    "ax2 = ax1.twinx()\n",
    "#ax1.grid(which='major',linestyle=':')\n",
    "ax1.bar(xax_num*3-1.2, dM_100_re,color = [0.3,0.3,1],\n",
    "        width = 0.6, label = '100 bar feed',\n",
    "       )\n",
    "\n",
    "ax1.bar(xax_num*3-0.6, dM_300_re,color = [0.3,0.7,0.3],\n",
    "        width = 0.6, label = '300 bar feed',\n",
    "       )\n",
    "\n",
    "ax1.bar(xax_num*3, rho_s,color = [0.4,0.4,0.4],\n",
    "        width = 0.6, label = 'Density',\n",
    "       )\n",
    "\n",
    "ax1.set_xticks(xax_num*3)\n",
    "ax1.set_xticklabels(Names,fontsize = 12)\n",
    "ax1.set_title('Recycled Feed Cases',fontsize = 15)\n",
    "ax1.set_ylabel('Storage (kg/ MOF kg) \\n Density (g/cm$^3$)', fontsize = 13)\n",
    "#ax2.set_ylabel('', fontsize = 13)\n",
    "\n",
    "\n",
    "plt.yticks(fontsize = 12)\n",
    "ax1.legend(fontsize = 12.5,loc = [0.33,0.76])\n",
    "#ax2.legend(fontsize = 12.5, loc= [0.4,0.71])\n",
    "\n",
    "#ax2.bar(xax_num*2+0.5, rho_s,color = [0.1,0.2,0.2],width = 0.4)\n"
   ]
  },
  {
   "cell_type": "code",
   "execution_count": 2,
   "metadata": {},
   "outputs": [
    {
     "data": {
      "image/png": "[encoded data removed]",
      "text/plain": [
       "<Figure size 432x288 with 2 Axes>"
      ]
     },
     "metadata": {
      "needs_background": "light"
     },
     "output_type": "display_data"
    }
   ],
   "source": [
    "x = np.arange(0, 10, 0.1)\n",
    "y1 = 0.05 * x**2\n",
    "y2 = -1 *y1\n",
    "\n",
    "fig, ax1 = plt.subplots()\n",
    "\n",
    "ax2 = ax1.twinx()\n",
    "ax1.plot(x, y1, 'g-')\n",
    "ax2.plot(x, y2, 'b-')\n",
    "\n",
    "ax1.set_xlabel('X data')\n",
    "ax1.set_ylabel('Y1 data', color='g')\n",
    "ax2.set_ylabel('Y2 data', color='b')\n",
    "\n",
    "plt.show()"
   ]
  },
  {
   "cell_type": "code",
   "execution_count": null,
   "metadata": {},
   "outputs": [],
   "source": []
  }
 ],
 "metadata": {
  "kernelspec": {
   "display_name": "Python 3",
   "language": "python",
   "name": "python3"
  },
  "language_info": {
   "codemirror_mode": {
    "name": "ipython",
    "version": 3
   },
   "file_extension": ".py",
   "mimetype": "text/x-python",
   "name": "python",
   "nbconvert_exporter": "python",
   "pygments_lexer": "ipython3",
   "version": "3.8.3"
  },
  "latex_envs": {
   "LaTeX_envs_menu_present": true,
   "autoclose": true,
   "autocomplete": true,
   "bibliofile": "biblio.bib",
   "cite_by": "apalike",
   "current_citInitial": 1,
   "eqLabelWithNumbers": true,
   "eqNumInitial": 1,
   "hotkeys": {
    "equation": "Ctrl-E",
    "itemize": "Ctrl-I"
   },
   "labels_anchors": false,
   "latex_user_defs": false,
   "report_style_numbering": true,
   "user_envs_cfg": false
  },
  "toc": {
   "base_numbering": 1,
   "nav_menu": {},
   "number_sections": true,
   "sideBar": true,
   "skip_h1_title": false,
   "title_cell": "Table of Contents",
   "title_sidebar": "Contents",
   "toc_cell": false,
   "toc_position": {},
   "toc_section_display": true,
   "toc_window_display": false
  },
  "varInspector": {
   "cols": {
    "lenName": 16,
    "lenType": 16,
    "lenVar": 40
   },
   "kernels_config": {
    "python": {
     "delete_cmd_postfix": "",
     "delete_cmd_prefix": "del ",
     "library": "var_list.py",
     "varRefreshCmd": "print(var_dic_list())"
    },
    "r": {
     "delete_cmd_postfix": ") ",
     "delete_cmd_prefix": "rm(",
     "library": "var_list.r",
     "varRefreshCmd": "cat(var_dic_list()) "
    }
   },
   "types_to_exclude": [
    "module",
    "function",
    "builtin_function_or_method",
    "instance",
    "_Feature"
   ],
   "window_display": false
  }
 },
 "nbformat": 4,
 "nbformat_minor": 4
}
